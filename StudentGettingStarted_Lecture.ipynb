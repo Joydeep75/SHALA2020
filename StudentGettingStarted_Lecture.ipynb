{
  "nbformat": 4,
  "nbformat_minor": 0,
  "metadata": {
    "colab": {
      "name": "StudentGettingStarted_Lecture.ipynb",
      "provenance": [],
      "collapsed_sections": [],
      "include_colab_link": true
    },
    "kernelspec": {
      "name": "python3",
      "display_name": "Python 3"
    }
  },
  "cells": [
    {
      "cell_type": "markdown",
      "metadata": {
        "id": "view-in-github",
        "colab_type": "text"
      },
      "source": [
        "<a href=\"https://colab.research.google.com/github/Joydeep75/SHALA2020/blob/master/StudentGettingStarted_Lecture.ipynb\" target=\"_parent\"><img src=\"https://colab.research.google.com/assets/colab-badge.svg\" alt=\"Open In Colab\"/></a>"
      ]
    },
    {
      "cell_type": "markdown",
      "metadata": {
        "id": "mvuy-9WFOQH7",
        "colab_type": "text"
      },
      "source": [
        "#**Getting Started**\n",
        "\n",
        "\n"
      ]
    },
    {
      "cell_type": "markdown",
      "metadata": {
        "id": "sDVspJIUHyDa",
        "colab_type": "text"
      },
      "source": [
        "\n",
        "\n",
        "---\n",
        "\n",
        "#Part1: numpy\n",
        "\n",
        "---\n",
        "\n"
      ]
    },
    {
      "cell_type": "markdown",
      "metadata": {
        "id": "DX53_7TimE-m",
        "colab_type": "text"
      },
      "source": [
        "\n",
        "\n",
        "---\n",
        "\n",
        "\n",
        "**1. Importing the module**\n",
        "\n",
        "\n",
        "---\n",
        "\n"
      ]
    },
    {
      "cell_type": "code",
      "metadata": {
        "id": "KFr9wMqhl_YT",
        "colab_type": "code",
        "colab": {}
      },
      "source": [
        "import numpy as np"
      ],
      "execution_count": 0,
      "outputs": []
    },
    {
      "cell_type": "markdown",
      "metadata": {
        "id": "vOnPMb07nlix",
        "colab_type": "text"
      },
      "source": [
        "\n",
        "\n",
        "---\n",
        "**2. Creating an array**\n",
        "*\n",
        "\n",
        "\n",
        "---\n",
        "\n",
        "\n"
      ]
    },
    {
      "cell_type": "code",
      "metadata": {
        "id": "wW1519TpnxWp",
        "colab_type": "code",
        "colab": {}
      },
      "source": [
        "# a = np.array([[1,2,3],[4,5,6]])\n",
        "# print(a)\n",
        "# print(type(a))"
      ],
      "execution_count": 0,
      "outputs": []
    },
    {
      "cell_type": "code",
      "metadata": {
        "id": "9f_-t_QSoPyy",
        "colab_type": "code",
        "colab": {}
      },
      "source": [
        "# b = np.array( [ [1,2], [3,4] ], dtype=complex )\n",
        "# print(b)"
      ],
      "execution_count": 0,
      "outputs": []
    },
    {
      "cell_type": "code",
      "metadata": {
        "id": "Pl5tQpAFIa93",
        "colab_type": "code",
        "colab": {}
      },
      "source": [
        "# create an array which contains zeros\n",
        "# c = np.zeros((2,3))\n",
        "# print('c = {}'.format(c))\n"
      ],
      "execution_count": 0,
      "outputs": []
    },
    {
      "cell_type": "code",
      "metadata": {
        "id": "IuBYcT_2I0x_",
        "colab_type": "code",
        "colab": {}
      },
      "source": [
        "# create an array of ones\n",
        "# d = np.ones((2,3,4), dtype=np.int16 )\n",
        "# print('d = {}'.format(d))"
      ],
      "execution_count": 0,
      "outputs": []
    },
    {
      "cell_type": "code",
      "metadata": {
        "id": "qqchcMKJJC9q",
        "colab_type": "code",
        "colab": {}
      },
      "source": [
        "# create an empty array\n",
        "# e = np.empty((3,3))\n",
        "# print('e = {}'.format(e))"
      ],
      "execution_count": 0,
      "outputs": []
    },
    {
      "cell_type": "code",
      "metadata": {
        "id": "rX9_QmN3JM7V",
        "colab_type": "code",
        "colab": {}
      },
      "source": [
        "# create an identity array\n",
        "# f = np.eye(3)\n",
        "# print('f = {}'.format(f))"
      ],
      "execution_count": 0,
      "outputs": []
    },
    {
      "cell_type": "code",
      "metadata": {
        "id": "ujLCPiIsJYPb",
        "colab_type": "code",
        "colab": {}
      },
      "source": [
        "# create an array of ones with the same size of array c\n",
        "# g = np.ones_like(c)\n",
        "# print('g = {}'.format(g))"
      ],
      "execution_count": 0,
      "outputs": []
    },
    {
      "cell_type": "code",
      "metadata": {
        "id": "casvUbE6Jpyw",
        "colab_type": "code",
        "colab": {}
      },
      "source": [
        "# create an array filled with inf values\n",
        "# h = np.full((3, 2), np.inf)\n",
        "# print('h = {}'.format(h))"
      ],
      "execution_count": 0,
      "outputs": []
    },
    {
      "cell_type": "code",
      "metadata": {
        "id": "PRMjbvwgKIlE",
        "colab_type": "code",
        "colab": {}
      },
      "source": [
        "# create a 3*3 array\n",
        "# i = np.array([[0,1,2],[3,4,5],[6,7,8]])\n",
        "# print('i = {}'.format(i))"
      ],
      "execution_count": 0,
      "outputs": []
    },
    {
      "cell_type": "code",
      "metadata": {
        "id": "-yY0p5goKYWk",
        "colab_type": "code",
        "colab": {}
      },
      "source": [
        "# find the diagonal of the previous array\n",
        "# j = np.diag(i)\n",
        "# print('j = {}'.format(j))"
      ],
      "execution_count": 0,
      "outputs": []
    },
    {
      "cell_type": "code",
      "metadata": {
        "id": "9kJKgZPhLyB6",
        "colab_type": "code",
        "colab": {}
      },
      "source": [
        "# find the diagonals above and below the main diagonal\n",
        "# j = np.diag(i,k = 1)\n",
        "# print('j = {}'.format(j))\n",
        "# print(\"-\"*20)\n",
        "# j = np.diag(i,k = -1)\n",
        "# print('j = {}'.format(j))\n"
      ],
      "execution_count": 0,
      "outputs": []
    },
    {
      "cell_type": "markdown",
      "metadata": {
        "id": "tqlb8eirpeqL",
        "colab_type": "text"
      },
      "source": [
        "\n",
        "\n",
        "---\n",
        "**3. Create a sequence of numbers**\n",
        "\n",
        "\n",
        "---\n",
        "\n",
        "\n"
      ]
    },
    {
      "cell_type": "code",
      "metadata": {
        "id": "jYD_TuLmM3mt",
        "colab_type": "code",
        "colab": {}
      },
      "source": [
        "# create a sequence of three numbers between 1 and 7\n",
        "# f = np.arange(1,7,2)\n",
        "# print(\"f = {}\".format(f)) "
      ],
      "execution_count": 0,
      "outputs": []
    },
    {
      "cell_type": "code",
      "metadata": {
        "id": "WmfPNrUVNQA_",
        "colab_type": "code",
        "colab": {}
      },
      "source": [
        "# create a sequence of numbers between 1 and 7 with stride 0.5\n",
        "# g = np.arange(1,7,0.5)\n",
        "# print(\"g = {}\".format(g))"
      ],
      "execution_count": 0,
      "outputs": []
    },
    {
      "cell_type": "code",
      "metadata": {
        "id": "v1g2OqafNfQD",
        "colab_type": "code",
        "outputId": "284a00a9-2fea-46db-9c43-babc8549b741",
        "colab": {
          "base_uri": "https://localhost:8080/",
          "height": 50
        }
      },
      "source": [
        "# create 10 numbers between 1 and 7\n",
        "h = np.linspace(1,7,10)\n",
        "print(\"h = {}\".format(h)) "
      ],
      "execution_count": 0,
      "outputs": [
        {
          "output_type": "stream",
          "text": [
            "h = [1.         1.66666667 2.33333333 3.         3.66666667 4.33333333\n",
            " 5.         5.66666667 6.33333333 7.        ]\n"
          ],
          "name": "stdout"
        }
      ]
    },
    {
      "cell_type": "markdown",
      "metadata": {
        "id": "k85McTPHqrkI",
        "colab_type": "text"
      },
      "source": [
        "\n",
        "\n",
        "---\n",
        "**Reshape an array**\n",
        "\n",
        "---\n",
        "\n",
        "\n"
      ]
    },
    {
      "cell_type": "code",
      "metadata": {
        "id": "Nos0iO_dNw7g",
        "colab_type": "code",
        "outputId": "7e62bfcc-2f3e-4dfc-86d3-ce882ec79d04",
        "colab": {
          "base_uri": "https://localhost:8080/",
          "height": 134
        }
      },
      "source": [
        "# create a vector of 10 elements and reshape it into 5*2 array\n",
        "a = np.arange(10)\n",
        "print(\"a = {}\".format(a))\n",
        "print(\"-\"*20)\n",
        "b = a.reshape(5,2)\n",
        "print(\"b = {}\".format(b))"
      ],
      "execution_count": 0,
      "outputs": [
        {
          "output_type": "stream",
          "text": [
            "a = [0 1 2 3 4 5 6 7 8 9]\n",
            "--------------------\n",
            "b = [[0 1]\n",
            " [2 3]\n",
            " [4 5]\n",
            " [6 7]\n",
            " [8 9]]\n"
          ],
          "name": "stdout"
        }
      ]
    },
    {
      "cell_type": "code",
      "metadata": {
        "id": "s8vgbHycN_0K",
        "colab_type": "code",
        "outputId": "d9797ef2-995c-4078-a7cd-95c33e970ed9",
        "colab": {
          "base_uri": "https://localhost:8080/",
          "height": 50
        }
      },
      "source": [
        "# flatten the previous array \n",
        "# c = b.flatten()\n",
        "# print(\"c = {}\".format(c))\n",
        "# c.shape"
      ],
      "execution_count": 0,
      "outputs": [
        {
          "output_type": "stream",
          "text": [
            "c = [0 1 2 3 4 5 6 7 8 9]\n"
          ],
          "name": "stdout"
        },
        {
          "output_type": "execute_result",
          "data": {
            "text/plain": [
              "(10,)"
            ]
          },
          "metadata": {
            "tags": []
          },
          "execution_count": 6
        }
      ]
    },
    {
      "cell_type": "code",
      "metadata": {
        "id": "mr-ir7m-OQuC",
        "colab_type": "code",
        "colab": {}
      },
      "source": [
        "# create a 2*3 array then find its transpose\n",
        "# d= np.array([[1,2,3],[4,5,6]])\n",
        "# print(\"d = {}\".format(d))\n",
        "# print(\"-\"*20)\n",
        "# e= d.transpose()\n",
        "# print(\"e = {}\".format(e))"
      ],
      "execution_count": 0,
      "outputs": []
    },
    {
      "cell_type": "code",
      "metadata": {
        "id": "eJfYButZO6uF",
        "colab_type": "code",
        "outputId": "ded79ebe-f758-42b2-fc88-580124bd7294",
        "colab": {
          "base_uri": "https://localhost:8080/",
          "height": 67
        }
      },
      "source": [
        "# create a random 3*2 array \n",
        "# a = np.random.random_sample((3, 2)) *5\n",
        "# print(\"a = {}\".format(a))"
      ],
      "execution_count": 0,
      "outputs": [
        {
          "output_type": "stream",
          "text": [
            "a = [[4.64385992 1.56888506]\n",
            " [3.92351934 1.22231823]\n",
            " [0.79559313 2.58530521]]\n"
          ],
          "name": "stdout"
        }
      ]
    },
    {
      "cell_type": "code",
      "metadata": {
        "id": "NvDVq6cLPB5x",
        "colab_type": "code",
        "colab": {}
      },
      "source": [
        "# find the minimum of the previous array (a) and its index\n",
        "# print(\"min(a) = {}\".format(np.min(a)))\n",
        "# print(\"argmin(a) = {}\".format(np.argmin(a)))"
      ],
      "execution_count": 0,
      "outputs": []
    },
    {
      "cell_type": "code",
      "metadata": {
        "id": "CWQXTCXxPLm-",
        "colab_type": "code",
        "colab": {}
      },
      "source": [
        "# find the maximum of a and its index\n",
        "# print(\"max(a) = {}\".format(np.max(a)))\n",
        "# print(\"argmax(a) = {}\".format(np.argmax(a)))"
      ],
      "execution_count": 0,
      "outputs": []
    },
    {
      "cell_type": "code",
      "metadata": {
        "id": "nUOFzJ0GPbWl",
        "colab_type": "code",
        "colab": {}
      },
      "source": [
        "# find the maximums and minimums of rows 1,2\n",
        "# np.maximum(x1,x2) is same as np.where(x1 >= x2, x1, x2) \n",
        "# print(\"maximum of row1, row2 = {}\".format(np.maximum(a[1],a[2])))\n",
        "# print(\"minimum of row1, row2 = {}\".format(np.minimum(a[1],a[2])))"
      ],
      "execution_count": 0,
      "outputs": []
    },
    {
      "cell_type": "markdown",
      "metadata": {
        "id": "V3dyqzf3yu5m",
        "colab_type": "text"
      },
      "source": [
        "\n",
        "\n",
        "---\n",
        "\n",
        "**Statistical measures**\n",
        "\n",
        "---\n",
        "\n"
      ]
    },
    {
      "cell_type": "code",
      "metadata": {
        "id": "-gx_IRu1y4xS",
        "colab_type": "code",
        "colab": {}
      },
      "source": [
        "# generate a random 3*2 array and compute its mean, variance, and standard deviation\n",
        "# a = np.random.random_sample((3, 2)) *5\n",
        "# print(\"a = {}\".format(a))\n",
        "# print(\"-\"*20)\n",
        "# print(\"mean(a) = {}\".format(np.mean(a)))\n",
        "# print(\"var(a) = {}\".format(np.var(a)))\n",
        "# print(\"std(a) = {}\".format(np.std(a)))\n"
      ],
      "execution_count": 0,
      "outputs": []
    },
    {
      "cell_type": "markdown",
      "metadata": {
        "id": "l0CwosoVzSOF",
        "colab_type": "text"
      },
      "source": [
        "\n",
        "\n",
        "---\n",
        "\n",
        "**Linear Algebra**\n",
        "\n",
        "---\n",
        "\n"
      ]
    },
    {
      "cell_type": "code",
      "metadata": {
        "id": "lShMEDNHQJE5",
        "colab_type": "code",
        "colab": {}
      },
      "source": [
        "# create a square, random matrix a \n",
        "# a = np.random.random_sample((3, 3))\n",
        "# b = np.exp(a)\n",
        "# print(\"b = exp(a){}\".format(b))"
      ],
      "execution_count": 0,
      "outputs": []
    },
    {
      "cell_type": "code",
      "metadata": {
        "id": "holrmn_2QZ-1",
        "colab_type": "code",
        "colab": {}
      },
      "source": [
        "# compute the determinant, rank, and trace of b\n",
        "# det = np.linalg.det(b)\n",
        "# print(\"determinant(b)= {}\".format(det))\n",
        "# rank = np.linalg.matrix_rank(b)\n",
        "# print(\"rank(b)= {}\".format(rank))\n",
        "# trace = np.trace(b)\n",
        "# print(\"trace(b)= {}\".format(trace))"
      ],
      "execution_count": 0,
      "outputs": []
    },
    {
      "cell_type": "code",
      "metadata": {
        "id": "pxBuskI7QnNr",
        "colab_type": "code",
        "colab": {}
      },
      "source": [
        "#find the eigen values and the eigen vectors of matrix b\n",
        "# eigen_val,eigen_vec = np.linalg.eig(b)\n",
        "# print(\"the eigen values of b:\\n{}\".format(eigen_val))\n",
        "# print(\"the the right eigen vectors of b:\\n{}\".format(eigen_vec))"
      ],
      "execution_count": 0,
      "outputs": []
    },
    {
      "cell_type": "code",
      "metadata": {
        "id": "XTszhe1oQ22N",
        "colab_type": "code",
        "colab": {}
      },
      "source": [
        "# implement singular value decomposition on matrix b\n",
        "# u,s,vh = np.linalg.svd(b)\n",
        "# print(\"U of b is :\\n{}\".format(u))\n",
        "# print(\"V of b is :\\n{}\".format(vh))\n",
        "# print(\"singular values of b are :\\n{}\".format(s))"
      ],
      "execution_count": 0,
      "outputs": []
    },
    {
      "cell_type": "code",
      "metadata": {
        "id": "9WQrbjtW8TYs",
        "colab_type": "code",
        "colab": {}
      },
      "source": [
        "# generate two arrays and compute their dot product\n",
        "# a = np.array([[1,2],[3,4]]) \n",
        "# b = np.array([[11,12],[13,14]]) \n",
        "# c = np.dot(a,b)\n",
        "# print(\"the dot product of a and b is:\\n{}\".format(c))\n",
        "# d = np.matmul(a,b)\n",
        "# print(\"the dot product of a and b is:\\n{}\".format(d))\n",
        "# print(\"the dot product of a and b is:\\n{}\".format(a*b))"
      ],
      "execution_count": 0,
      "outputs": []
    },
    {
      "cell_type": "code",
      "metadata": {
        "id": "osuR01ra9Ugr",
        "colab_type": "code",
        "colab": {}
      },
      "source": [
        "# Generate an array and compute its inverse and its pseudo inverse\n",
        "# a = np.random.random_sample((3,3))\n",
        "# print(a)\n",
        "# # Compute the (multiplicative) inverse of a matrix.\n",
        "# print(\"the inverse of a is:\")\n",
        "# b = np.linalg.inv(a)\n",
        "# print(b)\n",
        "# #compute the (Moore-Penrose) pseudo-inverse of a\n",
        "# print(\"the pseudo-inverse of a is:\")\n",
        "# c = np.linalg.pinv(a)\n",
        "# print(c)\n",
        "\n",
        "# import random\n",
        "# np.random.seed(3)\n",
        "# d = random.randint(1, 10)  \n",
        "# print(d)\n",
        "# print(d)\n",
        "# np.random.seed(1099)\n",
        "# d = random.randint(1, 10) \n",
        "# print(d)\n",
        "# print(d)\n",
        "\n"
      ],
      "execution_count": 0,
      "outputs": []
    },
    {
      "cell_type": "markdown",
      "metadata": {
        "id": "JJpB7meAHLuh",
        "colab_type": "text"
      },
      "source": [
        "\n",
        "\n",
        "---\n",
        "\n",
        "\n",
        "#Part2: pandas\n",
        "\n",
        "\n",
        "---\n",
        "\n"
      ]
    },
    {
      "cell_type": "markdown",
      "metadata": {
        "id": "wpRPrGXMHbDD",
        "colab_type": "text"
      },
      "source": [
        "\n",
        "\n",
        "---\n",
        "\n",
        "**1. Load the pandas package**\n",
        "\n",
        "---\n",
        "\n"
      ]
    },
    {
      "cell_type": "code",
      "metadata": {
        "id": "Ks1tRu6gOJEG",
        "colab_type": "code",
        "colab": {}
      },
      "source": [
        "# import pandas as pd"
      ],
      "execution_count": 0,
      "outputs": []
    },
    {
      "cell_type": "markdown",
      "metadata": {
        "id": "wQU5uckuPbu5",
        "colab_type": "text"
      },
      "source": [
        "\n",
        "\n",
        "---\n",
        "\n",
        "\n",
        "\n",
        "**2.   I want to store customers data. For a number of customers I know, the name(characters), age(integers), and sex(male/female) data.**\n",
        "\n",
        "\n",
        "---\n",
        "\n",
        "\n",
        "\n"
      ]
    },
    {
      "cell_type": "code",
      "metadata": {
        "id": "H-hKlfKTPaoh",
        "colab_type": "code",
        "colab": {}
      },
      "source": [
        "# df = pd.DataFrame({\n",
        "#     \"Name\": [\"Sahar\",\n",
        "#              \"Nisha\",\n",
        "#              \"Lokesh\"],\n",
        "#     \"Age\":[28, 30, 25],\n",
        "#     \"Sex\":[\"female\",\"female\",\"male\"]\n",
        "# })\n",
        "\n",
        "# df"
      ],
      "execution_count": 0,
      "outputs": []
    },
    {
      "cell_type": "markdown",
      "metadata": {
        "id": "Luyr6P8aRSjf",
        "colab_type": "text"
      },
      "source": [
        "\n",
        "\n",
        "---\n",
        "\n",
        "\n",
        "**Note that:** A DataFrame is a 2-dimensional data structure that can store data of different types (including characters, integers,floating point values, categorical data and more) in columns.\n",
        "\n",
        "\n",
        "---\n",
        "\n"
      ]
    },
    {
      "cell_type": "markdown",
      "metadata": {
        "id": "fCP9-8vHSWZX",
        "colab_type": "text"
      },
      "source": [
        "\n",
        "\n",
        "---\n",
        "\n",
        "\n",
        "**3.   To access the data of one column:**\n",
        "\n",
        "\n",
        "---\n",
        "\n",
        "\n",
        "\n"
      ]
    },
    {
      "cell_type": "code",
      "metadata": {
        "id": "OUOrO7iiR5vu",
        "colab_type": "code",
        "colab": {}
      },
      "source": [
        "# df[\"Age\"]"
      ],
      "execution_count": 0,
      "outputs": []
    },
    {
      "cell_type": "markdown",
      "metadata": {
        "id": "TpCO66h4THTi",
        "colab_type": "text"
      },
      "source": [
        "\n",
        "\n",
        "---\n",
        "\n",
        "\n",
        "**4. To know the maximum age of the customers:**\n",
        "\n",
        "\n",
        "---\n",
        "\n"
      ]
    },
    {
      "cell_type": "code",
      "metadata": {
        "id": "Ekvd1c-tTdOu",
        "colab_type": "code",
        "colab": {}
      },
      "source": [
        "# df[\"Age\"].max()"
      ],
      "execution_count": 0,
      "outputs": []
    },
    {
      "cell_type": "markdown",
      "metadata": {
        "id": "FZ9ezcQlT48R",
        "colab_type": "text"
      },
      "source": [
        "\n",
        "\n",
        "---\n",
        "\n",
        "\n",
        "**5. If you are interested of some basic statistics of the numerical data of your table try describe() method, which provides a quick overview of the numerical data in a DataFrame**\n",
        "\n",
        "\n",
        "---\n",
        "\n"
      ]
    },
    {
      "cell_type": "code",
      "metadata": {
        "id": "JTYRufMvULPl",
        "colab_type": "code",
        "colab": {}
      },
      "source": [
        "# df.describe()"
      ],
      "execution_count": 0,
      "outputs": []
    },
    {
      "cell_type": "markdown",
      "metadata": {
        "id": "EAQNutXLUjI2",
        "colab_type": "text"
      },
      "source": [
        "\n",
        "\n",
        "---\n",
        "\n",
        "\n",
        "**6. Dealing with CSV files**\n",
        "pandas provides the read_csv() function to read data stored as a csv file into a pandas DataFrame\n",
        "\n",
        "\n",
        "---\n",
        "\n"
      ]
    },
    {
      "cell_type": "code",
      "metadata": {
        "id": "IiEp4sZvYw4s",
        "colab_type": "code",
        "colab": {}
      },
      "source": [
        "# CustomerData = pd.read_csv(\"/content/drive/My Drive/CusomerData .csv\") "
      ],
      "execution_count": 0,
      "outputs": []
    },
    {
      "cell_type": "code",
      "metadata": {
        "id": "n4VDzuMcUhu2",
        "colab_type": "code",
        "colab": {}
      },
      "source": [
        "# CustomerData"
      ],
      "execution_count": 0,
      "outputs": []
    },
    {
      "cell_type": "markdown",
      "metadata": {
        "id": "JspZill-aNjr",
        "colab_type": "text"
      },
      "source": [
        "\n",
        "\n",
        "---\n",
        "\n",
        "\n",
        "**To see the first two rows :**\n",
        "\n",
        "\n",
        "---\n",
        "\n"
      ]
    },
    {
      "cell_type": "code",
      "metadata": {
        "id": "lNvzTzIEaEIm",
        "colab_type": "code",
        "colab": {}
      },
      "source": [
        "# CustomerData.head(2)"
      ],
      "execution_count": 0,
      "outputs": []
    },
    {
      "cell_type": "markdown",
      "metadata": {
        "id": "YGeSsx66awOB",
        "colab_type": "text"
      },
      "source": [
        "\n",
        "\n",
        "---\n",
        "\n",
        "\n",
        "**A check on how pandas interpreted each of the column data types can be done by requesting the pandas dtypes\n",
        "attribut**\n",
        "\n",
        "\n",
        "---\n",
        "\n"
      ]
    },
    {
      "cell_type": "code",
      "metadata": {
        "id": "D--xGYzZa_Ro",
        "colab_type": "code",
        "colab": {}
      },
      "source": [
        "# CustomerData.dtypes"
      ],
      "execution_count": 0,
      "outputs": []
    },
    {
      "cell_type": "markdown",
      "metadata": {
        "id": "LPI1sPPKb9ZV",
        "colab_type": "text"
      },
      "source": [
        "\n",
        "\n",
        "---\n",
        "\n",
        "\n",
        "**To store the data in an excel file:**\n",
        "\n",
        "\n",
        "---\n",
        "\n"
      ]
    },
    {
      "cell_type": "code",
      "metadata": {
        "id": "XxvHZIvHcFGz",
        "colab_type": "code",
        "colab": {}
      },
      "source": [
        "# CustomerData.to_excel('CustomerData.xlsx', sheet_name='Customers', index=False)"
      ],
      "execution_count": 0,
      "outputs": []
    },
    {
      "cell_type": "code",
      "metadata": {
        "id": "5OkUVbLvcgXv",
        "colab_type": "code",
        "colab": {}
      },
      "source": [
        "# CD = pd.read_excel('CustomerData.xlsx', sheet_name='Customers')\n",
        "CD"
      ],
      "execution_count": 0,
      "outputs": []
    },
    {
      "cell_type": "markdown",
      "metadata": {
        "id": "_Sa2eNTDdCEt",
        "colab_type": "text"
      },
      "source": [
        "\n",
        "\n",
        "\n",
        "---\n",
        "\n",
        "\n",
        "**To get a technical summary of a DataFrame**\n",
        "\n",
        "\n",
        "---\n",
        "\n"
      ]
    },
    {
      "cell_type": "code",
      "metadata": {
        "id": "SQD6yYx4dLEB",
        "colab_type": "code",
        "colab": {}
      },
      "source": [
        "# CustomerData.info()"
      ],
      "execution_count": 0,
      "outputs": []
    },
    {
      "cell_type": "markdown",
      "metadata": {
        "id": "lNt_eqzjdth_",
        "colab_type": "text"
      },
      "source": [
        "\n",
        "\n",
        "---\n",
        "\n",
        "\n",
        "\n",
        "**Now let us select one column and look at its type and shape**\n",
        "\n",
        "\n",
        "---\n",
        "\n"
      ]
    },
    {
      "cell_type": "code",
      "metadata": {
        "id": "H3XGwmu2dsft",
        "colab_type": "code",
        "colab": {}
      },
      "source": [
        "# sex = CustomerData[\"Gender\"]\n",
        "# # sex.head()"
      ],
      "execution_count": 0,
      "outputs": []
    },
    {
      "cell_type": "code",
      "metadata": {
        "id": "ZeTTSKGPeodG",
        "colab_type": "code",
        "colab": {}
      },
      "source": [
        "# sex.shape"
      ],
      "execution_count": 0,
      "outputs": []
    },
    {
      "cell_type": "markdown",
      "metadata": {
        "id": "tg4_WMdne6kL",
        "colab_type": "text"
      },
      "source": [
        "\n",
        "\n",
        "---\n",
        "\n",
        "\n",
        "**To select multiple columns:**\n",
        "\n",
        "\n",
        "---\n",
        "\n"
      ]
    },
    {
      "cell_type": "code",
      "metadata": {
        "id": "mv034bEcfAjZ",
        "colab_type": "code",
        "colab": {}
      },
      "source": [
        "# CustomerData[[\"Gender\",\"Name\"]]"
      ],
      "execution_count": 0,
      "outputs": []
    },
    {
      "cell_type": "markdown",
      "metadata": {
        "id": "a8wnmPdSg0wV",
        "colab_type": "text"
      },
      "source": [
        "\n",
        "\n",
        "---\n",
        "\n",
        "\n",
        "**To filter specific rows from a DataFrame:** \n",
        "pass the customer who are elder than 29\n",
        "\n",
        "\n",
        "---\n",
        "\n"
      ]
    },
    {
      "cell_type": "code",
      "metadata": {
        "id": "-9aS9uTVgz4h",
        "colab_type": "code",
        "colab": {}
      },
      "source": [
        "# above_29 = CustomerData[CustomerData[\"Age\"]>29]\n",
        "# above_29.head()"
      ],
      "execution_count": 0,
      "outputs": []
    },
    {
      "cell_type": "markdown",
      "metadata": {
        "id": "6recC4joh0g1",
        "colab_type": "text"
      },
      "source": [
        "\n",
        "\n",
        "\n",
        "---\n",
        "\n",
        "\n",
        "**How to select specific rows and columns from a DataFrame**\n",
        "\n",
        "\n",
        "---\n",
        "\n"
      ]
    },
    {
      "cell_type": "code",
      "metadata": {
        "id": "d3icRFcwh6pN",
        "colab_type": "code",
        "colab": {}
      },
      "source": [
        "# names_above_29 = CustomerData.loc[CustomerData[\"Age\"]>29,\"Name\"]\n",
        "# names_above_29.head()"
      ],
      "execution_count": 0,
      "outputs": []
    },
    {
      "cell_type": "markdown",
      "metadata": {
        "id": "gM0lGiHWjOIT",
        "colab_type": "text"
      },
      "source": [
        "\n",
        "\n",
        "\n",
        "---\n",
        "\n",
        "\n",
        "**Select rows from 1 to 3 and columns 1,2:**\n",
        "\n",
        "\n",
        "---\n",
        "\n"
      ]
    },
    {
      "cell_type": "code",
      "metadata": {
        "id": "Dsd_Bz7_jZ3n",
        "colab_type": "code",
        "colab": {}
      },
      "source": [
        "# CustomerData.iloc[0:3,0:2]"
      ],
      "execution_count": 0,
      "outputs": []
    },
    {
      "cell_type": "markdown",
      "metadata": {
        "id": "ookOS_UIkOdi",
        "colab_type": "text"
      },
      "source": [
        "\n",
        "\n",
        "---\n",
        "\n",
        "\n",
        "**Note:**\n",
        "1. Select specific rows and/or columns using loc when using the row and column names\n",
        "2. Select specific rows and/or columns using iloc when using the positions in the table\n",
        "\n",
        "\n",
        "---\n",
        "\n"
      ]
    },
    {
      "cell_type": "markdown",
      "metadata": {
        "id": "Xpf5ch8qaxNk",
        "colab_type": "text"
      },
      "source": [
        "\n",
        "\n",
        "---\n",
        "\n",
        "**Plotting**\n",
        "\n",
        "---\n",
        "\n"
      ]
    },
    {
      "cell_type": "code",
      "metadata": {
        "id": "an15-6I9kWbF",
        "colab_type": "code",
        "colab": {}
      },
      "source": [
        "# import matplotlib.pyplot as plt"
      ],
      "execution_count": 0,
      "outputs": []
    },
    {
      "cell_type": "code",
      "metadata": {
        "id": "qUZAS9u1ksOt",
        "colab_type": "code",
        "colab": {}
      },
      "source": [
        "# CustomerData.plot()"
      ],
      "execution_count": 0,
      "outputs": []
    },
    {
      "cell_type": "markdown",
      "metadata": {
        "id": "HQNP529nlCjK",
        "colab_type": "text"
      },
      "source": [
        "\n",
        "\n",
        "\n",
        "---\n",
        "\n",
        "\n",
        "**To plot only the columns of the data table with the data from Age**\n",
        "\n",
        "\n",
        "---\n",
        "\n"
      ]
    },
    {
      "cell_type": "code",
      "metadata": {
        "id": "pr2A66jvlMWK",
        "colab_type": "code",
        "colab": {}
      },
      "source": [
        "# CustomerData[\"Age\"].plot()"
      ],
      "execution_count": 0,
      "outputs": []
    },
    {
      "cell_type": "code",
      "metadata": {
        "id": "a46UwvXkmK0E",
        "colab_type": "code",
        "colab": {}
      },
      "source": [
        "# CustomerData.plot.scatter(x=\"Id\",\n",
        "#                           y=\"Age\")"
      ],
      "execution_count": 0,
      "outputs": []
    },
    {
      "cell_type": "code",
      "metadata": {
        "id": "lkEGVsK6myPN",
        "colab_type": "code",
        "colab": {}
      },
      "source": [
        "# CustomerData.plot.box()"
      ],
      "execution_count": 0,
      "outputs": []
    },
    {
      "cell_type": "markdown",
      "metadata": {
        "id": "hJXnYn8SnZsf",
        "colab_type": "text"
      },
      "source": [
        "\n",
        "\n",
        "---\n",
        "\n",
        "\n",
        "**Some Statistics**\n",
        "\n",
        "\n",
        "---\n",
        "\n"
      ]
    },
    {
      "cell_type": "code",
      "metadata": {
        "id": "rtnS9JUFngdz",
        "colab_type": "code",
        "colab": {}
      },
      "source": [
        "# CustomerData[\"Age\"].mean()"
      ],
      "execution_count": 0,
      "outputs": []
    },
    {
      "cell_type": "code",
      "metadata": {
        "id": "seDuIPFWpQSB",
        "colab_type": "code",
        "colab": {}
      },
      "source": [
        "# CustomerData[\"Age\"].median()"
      ],
      "execution_count": 0,
      "outputs": []
    },
    {
      "cell_type": "code",
      "metadata": {
        "id": "d6VVZBWjpYv-",
        "colab_type": "code",
        "colab": {}
      },
      "source": [
        "# CustomerData[\"Age\"].max()"
      ],
      "execution_count": 0,
      "outputs": []
    },
    {
      "cell_type": "code",
      "metadata": {
        "id": "nv8wI_S8plUW",
        "colab_type": "code",
        "colab": {}
      },
      "source": [
        "# CustomerData[\"Age\"].min()"
      ],
      "execution_count": 0,
      "outputs": []
    },
    {
      "cell_type": "code",
      "metadata": {
        "id": "lh1Vct3bpqX2",
        "colab_type": "code",
        "colab": {}
      },
      "source": [
        "# CustomerData[\"Age\"].skew()"
      ],
      "execution_count": 0,
      "outputs": []
    },
    {
      "cell_type": "code",
      "metadata": {
        "id": "pDGAPJzrKDOR",
        "colab_type": "code",
        "colab": {}
      },
      "source": [
        "# CustomerData[\"Age\"].var()"
      ],
      "execution_count": 0,
      "outputs": []
    },
    {
      "cell_type": "code",
      "metadata": {
        "id": "Ug2d8zQLHPNR",
        "colab_type": "code",
        "colab": {}
      },
      "source": [
        "# CustomerData[\"Age\"].std()"
      ],
      "execution_count": 0,
      "outputs": []
    },
    {
      "cell_type": "code",
      "metadata": {
        "id": "-a2CeeTcJ6ft",
        "colab_type": "code",
        "colab": {}
      },
      "source": [
        "# CustomerData[\"Age\"].mode()"
      ],
      "execution_count": 0,
      "outputs": []
    },
    {
      "cell_type": "markdown",
      "metadata": {
        "id": "aPF7Mm0HrrEH",
        "colab_type": "text"
      },
      "source": [
        "\n",
        "\n",
        "---\n",
        "\n",
        "\n",
        "**Combining overlapping data sets**\n",
        "\n",
        "\n",
        "---\n",
        "\n"
      ]
    },
    {
      "cell_type": "code",
      "metadata": {
        "id": "oIWsl43y5-1h",
        "colab_type": "code",
        "colab": {}
      },
      "source": [
        "# import numpy as np"
      ],
      "execution_count": 0,
      "outputs": []
    },
    {
      "cell_type": "code",
      "metadata": {
        "id": "rSGyQnW-rveu",
        "colab_type": "code",
        "colab": {}
      },
      "source": [
        "# df1 = pd.DataFrame({'A': [1., np.nan, 3., 5., np.nan],\n",
        "#                     'B': [np.nan, 2., 3., np.nan, 6.]})\n",
        "# df2 = pd.DataFrame({'A': [5., 2., 4., np.nan, 3., 7.],\n",
        "#                     'B': [np.nan, np.nan, 3., 4., 6., 8.]})\n"
      ],
      "execution_count": 0,
      "outputs": []
    },
    {
      "cell_type": "code",
      "metadata": {
        "id": "sN7z-jbq6XTp",
        "colab_type": "code",
        "colab": {}
      },
      "source": [
        "# df1"
      ],
      "execution_count": 0,
      "outputs": []
    },
    {
      "cell_type": "code",
      "metadata": {
        "id": "_PM6hhWC6aA9",
        "colab_type": "code",
        "colab": {}
      },
      "source": [
        "# df2"
      ],
      "execution_count": 0,
      "outputs": []
    },
    {
      "cell_type": "code",
      "metadata": {
        "id": "ZoW71GpN6d7O",
        "colab_type": "code",
        "colab": {}
      },
      "source": [
        "# df1.combine_first(df2)"
      ],
      "execution_count": 0,
      "outputs": []
    },
    {
      "cell_type": "markdown",
      "metadata": {
        "id": "Qh2LE6kk7AHR",
        "colab_type": "text"
      },
      "source": [
        "\n",
        "\n",
        "---\n",
        "\n",
        "\n",
        "**combine_first() combines two DataFrame objects where missing values in one \n",
        "DataFrame are conditionally filled with like-labeled values from the other DataFrame.**\n",
        "\n",
        "\n",
        "---\n",
        "\n"
      ]
    },
    {
      "cell_type": "code",
      "metadata": {
        "id": "hkJX92IzFecZ",
        "colab_type": "code",
        "colab": {}
      },
      "source": [
        "# def combiner(x, y):\n",
        "#   return np.where(pd.isna(x), y, x)"
      ],
      "execution_count": 0,
      "outputs": []
    },
    {
      "cell_type": "code",
      "metadata": {
        "id": "BduvgTE97RJU",
        "colab_type": "code",
        "colab": {}
      },
      "source": [
        "# df1 = pd.DataFrame({'A': [1., 2., 3., 5., 6.],\n",
        "#                     'B': [1., np.nan, 3., 4., np.nan]})\n",
        "# df2 = pd.DataFrame({'A': [5., 2., 4., 2., 3.],\n",
        "#                     'B': [7., 3., 4., 6., 8.]})\n",
        "\n",
        "# df3 = combiner(df1,df2)\n",
        "# df3"
      ],
      "execution_count": 0,
      "outputs": []
    },
    {
      "cell_type": "markdown",
      "metadata": {
        "id": "DGHzdQUVG_PQ",
        "colab_type": "text"
      },
      "source": [
        "\n",
        "\n",
        "\n",
        "---\n",
        "\n",
        "\n",
        "**To exclude missing data you can use skipna = True**\n",
        "\n",
        "\n",
        "---\n",
        "\n"
      ]
    },
    {
      "cell_type": "code",
      "metadata": {
        "id": "jxzVpa94G06A",
        "colab_type": "code",
        "colab": {}
      },
      "source": [
        "# df1.sum(axis=1, skipna=True)"
      ],
      "execution_count": 0,
      "outputs": []
    },
    {
      "cell_type": "markdown",
      "metadata": {
        "id": "ozn1F1V1RgQA",
        "colab_type": "text"
      },
      "source": [
        "\n",
        "\n",
        "---\n",
        "\n",
        "\n",
        "**Crosstabs**\n",
        "\n",
        "\n",
        "---\n",
        "\n"
      ]
    },
    {
      "cell_type": "code",
      "metadata": {
        "id": "3PZMLCFMRgqi",
        "colab_type": "code",
        "colab": {}
      },
      "source": [
        "# raw_data = {'regiment': ['Nighthawks', 'Nighthawks', 'Nighthawks', 'Nighthawks', 'Dragoons', 'Dragoons', 'Dragoons', 'Dragoons', 'Scouts', 'Scouts', 'Scouts', 'Scouts'], \n",
        "#         'company': ['infantry', 'infantry', 'cavalry', 'cavalry', 'infantry', 'infantry', 'cavalry', 'cavalry','infantry', 'infantry', 'cavalry', 'cavalry'], \n",
        "#         'experience': ['veteran', 'rookie', 'veteran', 'rookie', 'veteran', 'rookie', 'veteran', 'rookie','veteran', 'rookie', 'veteran', 'rookie'],\n",
        "#         'name': ['Miller', 'Jacobson', 'Ali', 'Milner', 'Cooze', 'Jacon', 'Ryaner', 'Sone', 'Sloan', 'Piger', 'Riani', 'Ali'], \n",
        "#         'preTestScore': [4, 24, 31, 2, 3, 4, 24, 31, 2, 3, 2, 3],\n",
        "#         'postTestScore': [25, 94, 57, 62, 70, 25, 94, 57, 62, 70, 62, 70]}\n",
        "# df = pd.DataFrame(raw_data, columns = ['regiment', 'company', 'experience', 'name', 'preTestScore', 'postTestScore'])\n",
        "# df"
      ],
      "execution_count": 0,
      "outputs": []
    },
    {
      "cell_type": "markdown",
      "metadata": {
        "id": "KUIHPY5MSzYA",
        "colab_type": "text"
      },
      "source": [
        "\n",
        "\n",
        "\n",
        "---\n",
        "\n",
        "\n",
        "**Counting the number of observations by regiment and category**\n",
        "\n",
        "\n",
        "---\n",
        "\n"
      ]
    },
    {
      "cell_type": "code",
      "metadata": {
        "id": "xHYTMK8MSDWN",
        "colab_type": "code",
        "colab": {}
      },
      "source": [
        "# pd.crosstab(df.regiment, df.company, margins=True)"
      ],
      "execution_count": 0,
      "outputs": []
    },
    {
      "cell_type": "markdown",
      "metadata": {
        "id": "Zv-1VrSaS9Fp",
        "colab_type": "text"
      },
      "source": [
        "\n",
        "\n",
        "---\n",
        "\n",
        "\n",
        "**Create a crosstab of the number of rookie and veteran cavalry and infantry soldiers per regiment**\n",
        "\n",
        "\n",
        "---\n",
        "\n"
      ]
    },
    {
      "cell_type": "code",
      "metadata": {
        "id": "Vq5RGmJDTBQR",
        "colab_type": "code",
        "colab": {}
      },
      "source": [
        "# pd.crosstab([df.company, df.experience], df.regiment,  margins=True)"
      ],
      "execution_count": 0,
      "outputs": []
    },
    {
      "cell_type": "markdown",
      "metadata": {
        "id": "gvamokQrTWsq",
        "colab_type": "text"
      },
      "source": [
        "\n",
        "\n",
        "---\n",
        "\n",
        "\n",
        "**get_dummies()**\n",
        "This function is used to convert categorical variable into dummy variable (one-hot encoding)\n",
        "\n",
        "\n",
        "---\n",
        "\n"
      ]
    },
    {
      "cell_type": "code",
      "metadata": {
        "id": "yjUMisjDUKUv",
        "colab_type": "code",
        "colab": {}
      },
      "source": [
        "# List = list('Hello World')\n",
        "# pd.get_dummies(List)"
      ],
      "execution_count": 0,
      "outputs": []
    },
    {
      "cell_type": "code",
      "metadata": {
        "id": "-JwWzmDgUwrT",
        "colab_type": "code",
        "colab": {}
      },
      "source": [
        "# pd.get_dummies(pd.Series(list('abc')), drop_first=True)"
      ],
      "execution_count": 0,
      "outputs": []
    },
    {
      "cell_type": "code",
      "metadata": {
        "id": "ErjhtJGiVyHP",
        "colab_type": "code",
        "colab": {}
      },
      "source": [
        "# pd.get_dummies(pd.Series(list('abc')), dtype = float)"
      ],
      "execution_count": 0,
      "outputs": []
    },
    {
      "cell_type": "markdown",
      "metadata": {
        "id": "aoOM_htTWWKD",
        "colab_type": "text"
      },
      "source": [
        "\n",
        "\n",
        "\n",
        "---\n",
        "\n",
        "\n",
        "**pd.DataFrame()**:\n",
        "converts a numpy array into a data frame\n",
        "\n",
        "\n",
        "---\n",
        "\n"
      ]
    },
    {
      "cell_type": "code",
      "metadata": {
        "id": "w9XIlSI_WlO3",
        "colab_type": "code",
        "colab": {}
      },
      "source": [
        "# Array = np.array([[1,2,3],[4,5,6]])\n",
        "# df1 =pd.DataFrame(Array) \n",
        "# df1"
      ],
      "execution_count": 0,
      "outputs": []
    },
    {
      "cell_type": "markdown",
      "metadata": {
        "id": "CFc0uaCKYwCs",
        "colab_type": "text"
      },
      "source": [
        "\n",
        "\n",
        "---\n",
        "\n",
        "\n",
        "**you can use this function to get a numpy array as well**\n",
        "\n",
        "\n",
        "---\n",
        "\n"
      ]
    },
    {
      "cell_type": "code",
      "metadata": {
        "id": "InTOHwBmYkcq",
        "colab_type": "code",
        "colab": {}
      },
      "source": [
        "# pd.DataFrame({\"A\": [1, 2,3], \"B\": [4,5,6]}).to_numpy()"
      ],
      "execution_count": 0,
      "outputs": []
    },
    {
      "cell_type": "code",
      "metadata": {
        "id": "ECEhZc_m2BPv",
        "colab_type": "code",
        "outputId": "673e2117-cb0e-4790-b6c1-bffde28c2364",
        "colab": {
          "base_uri": "https://localhost:8080/",
          "height": 121
        }
      },
      "source": [
        "from google.colab import drive\n",
        "drive.mount('/gdrive')"
      ],
      "execution_count": 0,
      "outputs": [
        {
          "output_type": "stream",
          "text": [
            "Go to this URL in a browser: https://accounts.google.com/o/oauth2/auth?client_id=947318989803-6bn6qk8qdgf4n4g3pfee6491hc0brc4i.apps.googleusercontent.com&redirect_uri=urn%3aietf%3awg%3aoauth%3a2.0%3aoob&response_type=code&scope=email%20https%3a%2f%2fwww.googleapis.com%2fauth%2fdocs.test%20https%3a%2f%2fwww.googleapis.com%2fauth%2fdrive%20https%3a%2f%2fwww.googleapis.com%2fauth%2fdrive.photos.readonly%20https%3a%2f%2fwww.googleapis.com%2fauth%2fpeopleapi.readonly\n",
            "\n",
            "Enter your authorization code:\n",
            "··········\n",
            "Mounted at /gdrive\n"
          ],
          "name": "stdout"
        }
      ]
    },
    {
      "cell_type": "code",
      "metadata": {
        "id": "fj2ig0oW2NjV",
        "colab_type": "code",
        "outputId": "b2d06f8a-acae-4e6a-c893-6f0d7cbb1755",
        "colab": {
          "base_uri": "https://localhost:8080/",
          "height": 34
        }
      },
      "source": [
        "!pwd"
      ],
      "execution_count": 0,
      "outputs": [
        {
          "output_type": "stream",
          "text": [
            "/content\n"
          ],
          "name": "stdout"
        }
      ]
    },
    {
      "cell_type": "code",
      "metadata": {
        "id": "NmsIEN0Z2OKk",
        "colab_type": "code",
        "outputId": "87fcdfe7-d380-46a3-e95a-1f5e898db9d2",
        "colab": {
          "base_uri": "https://localhost:8080/",
          "height": 50
        }
      },
      "source": [
        "!cd /content/drive\n",
        "!ls"
      ],
      "execution_count": 0,
      "outputs": [
        {
          "output_type": "stream",
          "text": [
            "/bin/bash: line 0: cd: /content/drive: No such file or directory\n",
            "sample_data\n"
          ],
          "name": "stdout"
        }
      ]
    }
  ]
}